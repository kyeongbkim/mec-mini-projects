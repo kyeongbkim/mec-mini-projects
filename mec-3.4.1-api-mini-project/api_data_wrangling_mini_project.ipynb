{
 "cells": [
  {
   "cell_type": "markdown",
   "metadata": {},
   "source": [
    "This exercise will require you to pull some data from https://data.nasdaq.com/ (formerly Quandl API)."
   ]
  },
  {
   "cell_type": "markdown",
   "metadata": {},
   "source": [
    "As a first step, you will need to register a free account on the https://data.nasdaq.com/ website."
   ]
  },
  {
   "cell_type": "markdown",
   "metadata": {},
   "source": [
    "After you register, you will be provided with a unique API key, that you should store:\n",
    "\n",
    "*Note*: Use a `.env` file and put your key in there and `python-dotenv` to access it in this notebook. \n",
    "\n",
    "The code below uses a key that was used when generating this project but has since been deleted. Never submit your keys to source control. There is a `.env-example` file in this repository to illusrtate what you need. Copy that to a file called `.env` and use your own api key in that `.env` file. Make sure you also have a `.gitignore` file with a line for `.env` added to it. \n",
    "\n",
    "The standard Python gitignore is [here](https://github.com/github/gitignore/blob/master/Python.gitignore) you can just copy that. "
   ]
  },
  {
   "cell_type": "code",
   "execution_count": 1,
   "metadata": {},
   "outputs": [],
   "source": [
    "# get api key from your .env file\n",
    "import os\n",
    "from dotenv import load_dotenv  # if missing this module, simply run `pip install python-dotenv`\n",
    "\n",
    "load_dotenv()\n",
    "API_KEY = os.getenv('NASDAQ_API_KEY')\n",
    "\n",
    "#print(API_KEY)"
   ]
  },
  {
   "cell_type": "markdown",
   "metadata": {},
   "source": [
    "Nasdaq Data has a large number of data sources, but, unfortunately, most of them require a Premium subscription. Still, there are also a good number of free datasets."
   ]
  },
  {
   "cell_type": "markdown",
   "metadata": {},
   "source": [
    "For this mini project, we will focus on equities data from the Frankfurt Stock Exhange (FSE), which is available for free. We'll try and analyze the stock prices of a company called Carl Zeiss Meditec, which manufactures tools for eye examinations, as well as medical lasers for laser eye surgery: https://www.zeiss.com/meditec/int/home.html. The company is listed under the stock ticker AFX_X."
   ]
  },
  {
   "cell_type": "markdown",
   "metadata": {},
   "source": [
    "You can find the detailed Nasdaq Data API instructions here: https://docs.data.nasdaq.com/docs/in-depth-usage"
   ]
  },
  {
   "cell_type": "markdown",
   "metadata": {},
   "source": [
    "While there is a dedicated Python package for connecting to the Nasdaq API, we would prefer that you use the *requests* package, which can be easily downloaded using *pip* or *conda*. You can find the documentation for the package here: http://docs.python-requests.org/en/master/ "
   ]
  },
  {
   "cell_type": "markdown",
   "metadata": {},
   "source": [
    "Finally, apart from the *requests* package, you are encouraged to not use any third party Python packages, such as *pandas*, and instead focus on what's available in the Python Standard Library (the *collections* module might come in handy: https://pymotw.com/3/collections/).\n",
    "Also, since you won't have access to DataFrames, you are encouraged to us Python's native data structures - preferably dictionaries, though some questions can also be answered using lists.\n",
    "You can read more on these data structures here: https://docs.python.org/3/tutorial/datastructures.html"
   ]
  },
  {
   "cell_type": "markdown",
   "metadata": {},
   "source": [
    "Keep in mind that the JSON responses you will be getting from the API map almost one-to-one to Python's dictionaries. Unfortunately, they can be very nested, so make sure you read up on indexing dictionaries in the documentation provided above."
   ]
  },
  {
   "cell_type": "code",
   "execution_count": 2,
   "metadata": {},
   "outputs": [],
   "source": [
    "# First, import the relevant modules"
   ]
  },
  {
   "cell_type": "code",
   "execution_count": 3,
   "metadata": {},
   "outputs": [],
   "source": [
    "from urllib.request import urlopen\n",
    "import json"
   ]
  },
  {
   "cell_type": "markdown",
   "metadata": {},
   "source": [
    "Note: API's can change a bit with each version, for this exercise it is reccomended to use the nasdaq api at `https://data.nasdaq.com/api/v3/`. This is the same api as what used to be quandl so `https://www.quandl.com/api/v3/` should work too.\n",
    "\n",
    "Hint: We are looking for the `AFX_X` data on the `datasets/FSE/` dataset."
   ]
  },
  {
   "cell_type": "code",
   "execution_count": 4,
   "metadata": {},
   "outputs": [],
   "source": [
    "# Now, call the Nasdaq API and pull out a small sample of the data (only one day) to get a glimpse\n",
    "# into the JSON structure that will be returned"
   ]
  },
  {
   "cell_type": "code",
   "execution_count": 5,
   "metadata": {},
   "outputs": [],
   "source": [
    "url = 'https://data.nasdaq.com/api/v3/datasets/FSE/AFX_X.json?start_date=2017-1-1&end_date=2017-12-31&api_key={}'.format(API_KEY)\n",
    "data = json.loads(urlopen(url).read().decode('utf-8'))"
   ]
  },
  {
   "cell_type": "code",
   "execution_count": 6,
   "metadata": {},
   "outputs": [
    {
     "name": "stdout",
     "output_type": "stream",
     "text": [
      "dict_keys(['id', 'dataset_code', 'database_code', 'name', 'description', 'refreshed_at', 'newest_available_date', 'oldest_available_date', 'column_names', 'frequency', 'type', 'premium', 'limit', 'transform', 'column_index', 'start_date', 'end_date', 'data', 'collapse', 'order', 'database_id'])\n",
      "['Date', 'Open', 'High', 'Low', 'Close', 'Change', 'Traded Volume', 'Turnover', 'Last Price of the Day', 'Daily Traded Units', 'Daily Turnover']\n",
      "['2017-12-29', 51.76, 51.94, 51.45, 51.76, None, 34640.0, 1792304.0, None, None, None]\n"
     ]
    }
   ],
   "source": [
    "# Inspect the JSON structure of the object you created, and take note of how nested it is,\n",
    "# as well as the overall structure\n",
    "print(data['dataset'].keys())\n",
    "print(data['dataset']['column_names'])\n",
    "print(data['dataset']['data'][0])"
   ]
  },
  {
   "cell_type": "code",
   "execution_count": 7,
   "metadata": {},
   "outputs": [],
   "source": [
    "DATE  = 0\n",
    "OPEN  = 1\n",
    "HIGH  = 2\n",
    "LOW   = 3\n",
    "CLOSE = 4\n",
    "VOLUME = 6"
   ]
  },
  {
   "cell_type": "markdown",
   "metadata": {},
   "source": [
    "These are your tasks for this mini project:\n",
    "\n",
    "1. Collect data from the Franfurt Stock Exchange, for the ticker AFX_X, for the whole year 2017 (keep in mind that the date format is YYYY-MM-DD).\n",
    "2. Convert the returned JSON object into a Python dictionary.\n",
    "3. Calculate what the highest and lowest opening prices were for the stock in this period.\n",
    "4. What was the largest change in any one day (based on High and Low price)?\n",
    "5. What was the largest change between any two days (based on Closing Price)?\n",
    "6. What was the average daily trading volume during this year?\n",
    "7. (Optional) What was the median trading volume during this year. (Note: you may need to implement your own function for calculating the median.)"
   ]
  },
  {
   "cell_type": "code",
   "execution_count": 8,
   "metadata": {},
   "outputs": [
    {
     "name": "stdout",
     "output_type": "stream",
     "text": [
      "Warning: Empty OPEN price: ['2017-05-01', None, 42.245, 41.655, 41.72, -0.44, 86348.0, 3606589.0, None, None, None]. Taking the mid value.\n",
      "Warning: Empty OPEN price: ['2017-04-17', None, 42.48, 41.985, 42.2, None, 88416.0, 3734717.0, None, None, None]. Taking the mid value.\n",
      "Warning: Empty OPEN price: ['2017-04-14', None, 42.48, 41.985, 42.2, None, 88416.0, 3734717.0, None, None, None]. Taking the mid value.\n"
     ]
    }
   ],
   "source": [
    "highest_opening = None\n",
    "lowest_opening = None\n",
    "largest_change_in_one_day = None\n",
    "largest_change_between_two_days = None\n",
    "previous_closing_price = None\n",
    "\n",
    "num_days = 0\n",
    "sum_trading_volumes = 0\n",
    "average_trading_volume = None\n",
    "median_trading_volume = None\n",
    "\n",
    "for quote in data['dataset']['data']:\n",
    "    # Handle opening price\n",
    "    if quote[OPEN] == None:\n",
    "        print('Warning: Empty OPEN price: {}. Taking the mid value.'.format(quote))\n",
    "        opening = (quote[HIGH] + quote[LOW]) / 2.0\n",
    "    else:\n",
    "        opening = quote[OPEN]\n",
    "\n",
    "    if highest_opening == None or opening > highest_opening:\n",
    "        highest_opening = opening\n",
    "\n",
    "    if lowest_opening == None or opening < lowest_opening:\n",
    "        lowest_opening = opening\n",
    "\n",
    "    # Handle change in one day\n",
    "    change_in_one_day = quote[HIGH] - quote[LOW]\n",
    "    if largest_change_in_one_day == None or change_in_one_day > largest_change_in_one_day:\n",
    "        largest_change_in_one_day = change_in_one_day\n",
    "\n",
    "    # Handle change between two days\n",
    "    if previous_closing_price == None:\n",
    "        previous_closing_price = quote[CLOSE]\n",
    "    else:\n",
    "        change_between_two_days = quote[CLOSE] - previous_closing_price \\\n",
    "                                    if quote[CLOSE] > previous_closing_price \\\n",
    "                                    else previous_closing_price - quote[CLOSE]\n",
    "        if largest_change_between_two_days == None or change_between_two_days > largest_change_between_two_days:\n",
    "            largest_change_between_two_days = change_between_two_days\n",
    "\n",
    "    # Handle trading volumes\n",
    "    sum_trading_volumes += quote[VOLUME]\n",
    "    num_days += 1\n",
    "\n",
    "# Calculate average_trading_volume\n",
    "average_trading_volume = sum_trading_volumes / num_days\n",
    "\n",
    "# Calculate median_trading_volume\n",
    "volumes = [ quote[VOLUME] for quote in data['dataset']['data']]\n",
    "volumes.sort()\n",
    "mid = int(len(volumes)/2)\n",
    "if len(volumes) % 2 != 0:\n",
    "    median_trading_volume = volumes[mid]\n",
    "else:\n",
    "    median_trading_volume = (volumes[mid - 1] + volumes[mid]) / 2.0"
   ]
  },
  {
   "cell_type": "code",
   "execution_count": 9,
   "metadata": {},
   "outputs": [
    {
     "name": "stdout",
     "output_type": "stream",
     "text": [
      "Highest open price:              53.11\n",
      "Lowest open price:               34.00\n",
      "Largest change in one day:       2.81\n",
      "Largest change between two days: 17.70\n",
      "Average trading volume:          89124.34\n",
      "Median trading volume:           76286.00\n"
     ]
    }
   ],
   "source": [
    "print('Highest open price:              {:.2f}'.format(highest_opening))\n",
    "print('Lowest open price:               {:.2f}'.format(lowest_opening))\n",
    "print('Largest change in one day:       {:.2f}'.format(largest_change_in_one_day))\n",
    "print('Largest change between two days: {:.2f}'.format(largest_change_between_two_days))\n",
    "print('Average trading volume:          {:.2f}'.format(average_trading_volume))\n",
    "print('Median trading volume:           {:.2f}'.format(median_trading_volume))"
   ]
  },
  {
   "cell_type": "code",
   "execution_count": null,
   "metadata": {},
   "outputs": [],
   "source": []
  }
 ],
 "metadata": {
  "interpreter": {
   "hash": "4885f37acae9217c235118400878352aafa7b76e66df698a1f601374f86939a7"
  },
  "kernelspec": {
   "display_name": "Python (MEC Mini-Projects)",
   "language": "python",
   "name": "mec-miniprojects"
  },
  "language_info": {
   "codemirror_mode": {
    "name": "ipython",
    "version": 3
   },
   "file_extension": ".py",
   "mimetype": "text/x-python",
   "name": "python",
   "nbconvert_exporter": "python",
   "pygments_lexer": "ipython3",
   "version": "3.7.11"
  }
 },
 "nbformat": 4,
 "nbformat_minor": 4
}
